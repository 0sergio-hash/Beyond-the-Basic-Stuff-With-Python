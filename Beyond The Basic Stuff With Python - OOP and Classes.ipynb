{
 "cells": [
  {
   "cell_type": "markdown",
   "metadata": {},
   "source": [
    "# Chapter 16 - OBJECT-ORIENTED PROGRAMMING AND INHERITANCE\n",
    "<a id = 'chapter_16_title'></a>"
   ]
  },
  {
   "cell_type": "markdown",
   "metadata": {},
   "source": [
    "**Table of Contents**\n",
    "- [Source code - wizcoin](#source_code_wizcoin)<br>\n",
    "- [Source code - Bank Account](#source_code_bank_account)<br>\n",
    "- [Non-OOP vs. OOP Examples: Tic-Tac-Toe](#non_oop_vs_oop_tic_tac_toe)<br>\n",
    "  - [Non-OOP Tic-Tac-Toe](#non_oop_tic_tac_toe)<br>\n",
    "  - [OOP Tic-Tac-Toe](#oop_tic_tac_toe)<br>\n",
    "- [Inheritance Example](#inheritance_example)<br>\n",
    "- [Overriding Methods](#overriding_methods)<br>\n",
    "- [The super() Function](#the_super_function)<br>\n",
    "- [Favor Composition Over Inheritance](#favor_composition_over_inheritance)<br>\n",
    "- [The isinstance() and issubclass() Functions](#the_isinstance_and_issubclass_functions)<br>\n",
    "- [Class and Static Object-Oriented Features](#class_and_static_object_oriented_features)<br>\n",
    "  - [Class Methods](#class_methods)<br>\n",
    "  - [Class Attributes](#class_attributes)<br>\n",
    "  - [Static Methods](#static_methods)<br>\n",
    "  - [When to Use Class and Static Object-Oriented Features](#when_to_use_class_and_static_object_oriented_features)<br>\n",
    "- [Multiple Inheritance](#multiple_inheritance)<br>\n",
    "- [Method Resolution Order](#method_resolution_order)<br>"
   ]
  },
  {
   "cell_type": "markdown",
   "metadata": {},
   "source": [
    "### Addiitonal reference:\n",
    "- [Chapter Text](https://inventwithpython.com/beyond/chapter15.html)<br>\n",
    "- [Markdown Cheat Sheet](https://www.markdownguide.org/cheat-sheet)<br>\n",
    "- [Markdown for Jupyter notebooks cheatsheet -IBM](https://www.ibm.com/docs/en/watson-studio-local/1.2.3?topic=notebooks-markdown-jupyter-cheatsheet)<br>\n",
    "- [Markdown cells - Jupyter Notebook documentation](https://jupyter-notebook.readthedocs.io/en/stable/examples/Notebook/Working%20With%20Markdown%20Cells.html)<br>"
   ]
  },
  {
   "cell_type": "markdown",
   "metadata": {},
   "source": [
    "### Source code - wizcoin\n",
    "<a id = 'source_code_wizcoin'></a>"
   ]
  },
  {
   "cell_type": "markdown",
   "metadata": {},
   "source": [
    "Markdown cells are great for having code displayed you don't want to run. Three backticks : `` ``` `` , on either end of the code will create a code block. \n",
    "\n",
    "Entering the syntax (i.e 'Python') after the first set will enable syntax highlighting. It also supports SQL, Excel, and tons of other languages!"
   ]
  },
  {
   "cell_type": "markdown",
   "metadata": {},
   "source": [
    "```python\n",
    "\n",
    "class WizCoin:\n",
    "    def __init__(self, galleons, sickles, knuts):\n",
    "        \"\"\"Create a new WizCoin object with \n",
    "        galleons, sickles and knuts.\"\"\"\n",
    "        self.galleons = galleons\n",
    "        self.sickles  = sickles\n",
    "        self.knuts    = knuts\n",
    "        # NOTE: __init__() methods NEVER \n",
    "        # have a return statement.\n",
    "        \n",
    "    def value(self):\n",
    "        \"\"\"The value (in knuts) of all the coins \n",
    "        in this WizCoin object.\"\"\"\n",
    "        return (self.galleons * 17 * 29) + \n",
    "        (self.sickles * 29) + (self.knuts)\n",
    "    \n",
    "    def weightInGrams(self):\n",
    "        \"\"\"Returns the weight of the coins \n",
    "        in grams.\"\"\"\n",
    "        return (self.galleons * 31.103) + \n",
    "        (self.sickles * 11.34) + (self.knuts * 5.0)\n",
    "        \n",
    "```"
   ]
  },
  {
   "cell_type": "code",
   "execution_count": 1,
   "metadata": {},
   "outputs": [],
   "source": [
    "import wizcoin"
   ]
  },
  {
   "cell_type": "code",
   "execution_count": 3,
   "metadata": {},
   "outputs": [
    {
     "name": "stdout",
     "output_type": "stream",
     "text": [
      "<wizcoin.WizCoin object at 0x040D24D0>\n",
      "G: 2 S: 5 K: 99\n",
      "Total value: 1230\n",
      "Weight: 613.906 grams\n",
      "\n",
      "<wizcoin.WizCoin object at 0x040D2B90>\n",
      "G: 13 S: 0 K: 0\n",
      "Total value: 6409\n",
      "Weight: 404.339 grams\n"
     ]
    }
   ],
   "source": [
    "purse = wizcoin.WizCoin(2, 5, 99)  # The ints are passed to __init__().\n",
    "print(purse)\n",
    "print('G:', purse.galleons, 'S:', purse.sickles, 'K:', purse.knuts)\n",
    "print('Total value:', purse.value())\n",
    "print('Weight:', purse.weightInGrams(), 'grams')\n",
    "\n",
    "print()\n",
    "\n",
    "coinJar = wizcoin.WizCoin(13, 0, 0)  # The ints are passsed to __init__().\n",
    "print(coinJar)\n",
    "print('G:', coinJar.galleons, 'S:', coinJar.sickles, 'K:', coinJar.knuts)\n",
    "print('Total value:', coinJar.value())\n",
    "print('Weight:', coinJar.weightInGrams(), 'grams')"
   ]
  },
  {
   "cell_type": "code",
   "execution_count": 3,
   "metadata": {
    "scrolled": true
   },
   "outputs": [
    {
     "name": "stdout",
     "output_type": "stream",
     "text": [
      "7\n",
      "17\n",
      "3\n",
      "a new attr\n"
     ]
    }
   ],
   "source": [
    "change = wizcoin.WizCoin(9, 7, 20)\n",
    "print(change.sickles)  # Prints 7.\n",
    "change.sickles += 10\n",
    "print(change.sickles)  # Prints 17.\n",
    "\n",
    "pile = wizcoin.WizCoin(2, 3, 31)\n",
    "print(pile.sickles)  # Prints 3.\n",
    "pile.someNewAttribute = 'a new attr'  # A new attribute is created.\n",
    "print(pile.someNewAttribute)"
   ]
  },
  {
   "cell_type": "markdown",
   "metadata": {},
   "source": [
    "[Back to Top](#chapter_16_title)<br>"
   ]
  },
  {
   "cell_type": "markdown",
   "metadata": {},
   "source": [
    "### Source code - BankAccount\n",
    "<a id = 'source_code_bank_account'></a>"
   ]
  },
  {
   "cell_type": "code",
   "execution_count": 8,
   "metadata": {},
   "outputs": [],
   "source": [
    "class BankAccount:\n",
    "    def __init__(self, accountHolder):\n",
    "        # BankAccount methods can access self._balance, but code outside of\n",
    "        # this class should not:\n",
    "        self._balance = 0\n",
    "        self._name = accountHolder\n",
    "        with open(self._name + 'Ledger.txt', 'w') as ledgerFile:\n",
    "            ledgerFile.write('Balance is 0\\n')\n",
    "        \n",
    "    def deposit(self, amount):\n",
    "        if amount <= 0:\n",
    "            return  # Don't allow negative \"deposits\".\n",
    "        self._balance += amount\n",
    "        with open(self._name + 'Ledger.txt', 'a') as ledgerFile:\n",
    "            ledgerFile.write('Deposit ' + str(amount) + '\\n')\n",
    "            ledgerFile.write('Balance is ' + str(self._balance) + '\\n')\n",
    "    \n",
    "    def withdraw(self, amount):\n",
    "        if self._balance < amount or amount < 0:\n",
    "            return  # Not enough in account, or withdraw is negative.\n",
    "        self._balance -= amount\n",
    "        with open(self._name + 'Ledger.txt', 'a') as ledgerFile:\n",
    "            ledgerFile.write('Withdraw ' + str(amount) + '\\n')\n",
    "            ledgerFile.write('Balance is ' + str(self._balance) + '\\n')"
   ]
  },
  {
   "cell_type": "code",
   "execution_count": 9,
   "metadata": {},
   "outputs": [],
   "source": [
    "acct = BankAccount('Alice')  # We create an account for Alice.\n",
    "acct.deposit(120)  # _balance can be affected through deposit()\n",
    "acct.withdraw(40)  # _balance can be affected through withdraw()"
   ]
  },
  {
   "cell_type": "code",
   "execution_count": 10,
   "metadata": {},
   "outputs": [],
   "source": [
    "# Changing _name or _balance outside of BankAccount is impolite, but allowed:\n",
    "acct._balance = 1000000000\n",
    "acct.withdraw(1000)"
   ]
  },
  {
   "cell_type": "code",
   "execution_count": 11,
   "metadata": {},
   "outputs": [],
   "source": [
    "acct._name = 'Bob'  # Now we're modifying Bob's account ledger!\n",
    "acct.withdraw(1000)  # This withdrawal is recorded in BobLedger.txt!"
   ]
  },
  {
   "cell_type": "code",
   "execution_count": 1,
   "metadata": {},
   "outputs": [
    {
     "data": {
      "text/plain": [
       "\"<class 'int'>\""
      ]
     },
     "execution_count": 1,
     "metadata": {},
     "output_type": "execute_result"
    }
   ],
   "source": [
    " # Passing the type object to str() returns a messy string.\n",
    "str(type(42)) "
   ]
  },
  {
   "cell_type": "code",
   "execution_count": 2,
   "metadata": {},
   "outputs": [
    {
     "data": {
      "text/plain": [
       "'int'"
      ]
     },
     "execution_count": 2,
     "metadata": {},
     "output_type": "execute_result"
    }
   ],
   "source": [
    "# The __qualname__ attribute is nicer looking.\n",
    "type(42).__qualname__ "
   ]
  },
  {
   "cell_type": "markdown",
   "metadata": {},
   "source": [
    "[Back to Top](#chapter_16_title)<br>"
   ]
  },
  {
   "cell_type": "markdown",
   "metadata": {},
   "source": [
    "## Non-OOP vs. OOP Examples: Tic-Tac-Toe\n",
    "<a id = 'non_oop_vs_oop_tic_tac_toe'></a>"
   ]
  },
  {
   "cell_type": "markdown",
   "metadata": {},
   "source": [
    "### Non-OOP Tic-Tac-Toe\n",
    "<a id = 'non_oop_tic_tac_toe'></a>"
   ]
  },
  {
   "cell_type": "code",
   "execution_count": 1,
   "metadata": {
    "scrolled": true
   },
   "outputs": [
    {
     "name": "stdout",
     "output_type": "stream",
     "text": [
      "Welcome to tic-tac-toe!\n",
      "\n",
      "       | |   1 2 3\n",
      "      -+-+-\n",
      "       | |   4 5 6\n",
      "      -+-+-\n",
      "       | |   7 8 9\n",
      "What is X's move? (1-9)\n",
      "1\n",
      "\n",
      "      X| |   1 2 3\n",
      "      -+-+-\n",
      "       | |   4 5 6\n",
      "      -+-+-\n",
      "       | |   7 8 9\n",
      "What is O's move? (1-9)\n",
      "1\n",
      "What is O's move? (1-9)\n",
      "2\n",
      "\n",
      "      X|O|   1 2 3\n",
      "      -+-+-\n",
      "       | |   4 5 6\n",
      "      -+-+-\n",
      "       | |   7 8 9\n",
      "What is X's move? (1-9)\n",
      "4\n",
      "\n",
      "      X|O|   1 2 3\n",
      "      -+-+-\n",
      "      X| |   4 5 6\n",
      "      -+-+-\n",
      "       | |   7 8 9\n",
      "What is O's move? (1-9)\n",
      "3\n",
      "\n",
      "      X|O|O  1 2 3\n",
      "      -+-+-\n",
      "      X| |   4 5 6\n",
      "      -+-+-\n",
      "       | |   7 8 9\n",
      "What is X's move? (1-9)\n",
      "7\n",
      "\n",
      "      X|O|O  1 2 3\n",
      "      -+-+-\n",
      "      X| |   4 5 6\n",
      "      -+-+-\n",
      "      X| |   7 8 9\n",
      "X has won the game!\n",
      "Thanks for playing!\n"
     ]
    }
   ],
   "source": [
    "# tictactoe.py, A non-OOP tic-tac-toe game.\n",
    "# By Al Sweigart al@inventwithpython.com\n",
    "\n",
    "# Setting up constants:\n",
    "\n",
    "ALL_SPACES = list('123456789')  # They keys for a TTT board dictionary.\n",
    "X, O, BLANK = 'X', 'O', ' '  # Constants for string values.\n",
    "\n",
    "def main():\n",
    "    \"\"\"Runs a game of tic-tac-toe.\"\"\"\n",
    "    print('Welcome to tic-tac-toe!')\n",
    "    gameBoard = getBlankBoard()  # Create a TTT board dictionary.\n",
    "    currentPlayer, nextPlayer = X, O  # X goes first, O goes next.\n",
    "    \n",
    "    while True:\n",
    "        print(getBoardStr(gameBoard))  # Display the board on the screen.\n",
    "        \n",
    "        # Keep asking the player until they enter a number 1-9:\n",
    "        move = None\n",
    "        while not isValidSpace(gameBoard, move):\n",
    "            print(f'What is {currentPlayer}\\'s move? (1-9)')\n",
    "            move = input()\n",
    "        updateBoard(gameBoard, move, currentPlayer)  # Make the move.\n",
    "        \n",
    "        # Check if the game is over:\n",
    "        if isWinner(gameBoard, currentPlayer):  # First check for victory.\n",
    "            print(getBoardStr(gameBoard))\n",
    "            print(currentPlayer + ' has won the game!')\n",
    "            break\n",
    "        elif isBoardFull(gameBoard):  # Next check for a tie.\n",
    "            print(getBoardStr(gameBoard))\n",
    "            print('The game is a tie!')\n",
    "            break\n",
    "        currentPlayer, nextPlayer = nextPlayer, currentPlayer  # Swap turns.\n",
    "    print('Thanks for playing!')\n",
    "\n",
    "def getBlankBoard():\n",
    "    \"\"\"Create a new, blank tic-tac-toe board.\"\"\"\n",
    "    board = {}  # The board is represented as a Python dictionary.\n",
    "    for space in ALL_SPACES:\n",
    "        board[space] = BLANK  # All spaces start as blank.\n",
    "    return board\n",
    "\n",
    "def getBoardStr(board):\n",
    "    \"\"\"Return a text-representation of the board.\"\"\"\n",
    "    return f'''\n",
    "      {board['1']}|{board['2']}|{board['3']}  1 2 3\n",
    "      -+-+-\n",
    "      {board['4']}|{board['5']}|{board['6']}  4 5 6\n",
    "      -+-+-\n",
    "      {board['7']}|{board['8']}|{board['9']}  7 8 9'''\n",
    "\n",
    "def isValidSpace(board, space):\n",
    "    \"\"\"Returns True if the space on the board is a valid space number\n",
    "    and the space is blank.\"\"\"\n",
    "    return space in ALL_SPACES and board[space] == BLANK\n",
    "\n",
    "def isWinner(board, player):\n",
    "    \"\"\"Return True if player is a winner on this TTTBoard.\"\"\"\n",
    "    b, p = board, player  # Shorter names as \"syntactic sugar\".\n",
    "    # Check for 3 marks across the 3 rows, 3 columns, and 2 diagonals.\n",
    "    return ((b['1'] == b['2'] == b['3'] == p) or  # Across the top\n",
    "            (b['4'] == b['5'] == b['6'] == p) or  # Across the middle\n",
    "            (b['7'] == b['8'] == b['9'] == p) or  # Across the bottom\n",
    "            (b['1'] == b['4'] == b['7'] == p) or  # Down the left\n",
    "            (b['2'] == b['5'] == b['8'] == p) or  # Down the middle\n",
    "            (b['3'] == b['6'] == b['9'] == p) or  # Down the right\n",
    "            (b['3'] == b['5'] == b['7'] == p) or  # Diagonal\n",
    "            (b['1'] == b['5'] == b['9'] == p))    # Diagonal\n",
    "\n",
    "def isBoardFull(board):\n",
    "    \"\"\"Return True if every space on the board has been taken.\"\"\"\n",
    "    for space in ALL_SPACES:\n",
    "        if board[space] == BLANK:\n",
    "            return False  # If a single space is blank, return False.\n",
    "    return True  # No spaces are blank, so return True.\n",
    "\n",
    "def updateBoard(board, space, mark):\n",
    "    \"\"\"Sets the space on the board to mark.\"\"\"\n",
    "    board[space] = mark\n",
    "    \n",
    "if __name__ == '__main__':\n",
    "    main()  # Call main() if this module is run, but not when imported."
   ]
  },
  {
   "cell_type": "markdown",
   "metadata": {},
   "source": [
    "### OOP Tic-Tac-Toe\n",
    "<a id = 'oop_tic_tac_toe'></a>"
   ]
  },
  {
   "cell_type": "code",
   "execution_count": 8,
   "metadata": {
    "scrolled": true
   },
   "outputs": [
    {
     "name": "stdout",
     "output_type": "stream",
     "text": [
      "Welcome to tic-tac-toe!\n",
      "\n",
      "       | |   1 2 3\n",
      "      -+-+-\n",
      "       | |   4 5 6\n",
      "      -+-+-\n",
      "       | |   7 8 9\n",
      "What is X's move? (1-9)\n",
      "1\n",
      "\n",
      "      X| |   1 2 3\n",
      "      -+-+-\n",
      "       | |   4 5 6\n",
      "      -+-+-\n",
      "       | |   7 8 9\n",
      "What is O's move? (1-9)\n",
      "2\n",
      "\n",
      "      X|O|   1 2 3\n",
      "      -+-+-\n",
      "       | |   4 5 6\n",
      "      -+-+-\n",
      "       | |   7 8 9\n",
      "What is X's move? (1-9)\n",
      "3\n",
      "\n",
      "      X|O|X  1 2 3\n",
      "      -+-+-\n",
      "       | |   4 5 6\n",
      "      -+-+-\n",
      "       | |   7 8 9\n",
      "What is O's move? (1-9)\n",
      "5\n",
      "\n",
      "      X|O|X  1 2 3\n",
      "      -+-+-\n",
      "       |O|   4 5 6\n",
      "      -+-+-\n",
      "       | |   7 8 9\n",
      "What is X's move? (1-9)\n",
      "4\n",
      "\n",
      "      X|O|X  1 2 3\n",
      "      -+-+-\n",
      "      X|O|   4 5 6\n",
      "      -+-+-\n",
      "       | |   7 8 9\n",
      "What is O's move? (1-9)\n",
      "9\n",
      "\n",
      "      X|O|X  1 2 3\n",
      "      -+-+-\n",
      "      X|O|   4 5 6\n",
      "      -+-+-\n",
      "       | |O  7 8 9\n",
      "What is X's move? (1-9)\n",
      "7\n",
      "\n",
      "      X|O|X  1 2 3\n",
      "      -+-+-\n",
      "      X|O|   4 5 6\n",
      "      -+-+-\n",
      "      X| |O  7 8 9\n",
      "X has won the game!\n",
      "Thanks for playing!\n"
     ]
    }
   ],
   "source": [
    "# tictactoe_oop.py, an object-oriented tic-tac-toe game.\n",
    "\n",
    "ALL_SPACES = list('123456789')  # The keys for a TTT board.\n",
    "X, O, BLANK = 'X', 'O', ' '  # Constants for string values.\n",
    "\n",
    "def main():\n",
    "    \"\"\"Runs a game of tic-tac-toe.\"\"\"\n",
    "    print('Welcome to tic-tac-toe!')\n",
    "    gameBoard = TTTBoard()  # Create a TTT board object.\n",
    "    currentPlayer, nextPlayer = X, O  # X goes first, O goes next.\n",
    "    \n",
    "    while True:\n",
    "        print(gameBoard.getBoardStr())  # Display the board on the screen.\n",
    "        \n",
    "        # Keep asking the player until they enter a number 1-9:\n",
    "        move = None\n",
    "        while not gameBoard.isValidSpace(move):\n",
    "            print(f'What is {currentPlayer}\\'s move? (1-9)')\n",
    "            move = input()\n",
    "        gameBoard.updateBoard(move, currentPlayer)  # Make the move.\n",
    "        \n",
    "        # Check if the game is over:\n",
    "        if gameBoard.isWinner(currentPlayer):  # First check for victory.\n",
    "            print(gameBoard.getBoardStr())\n",
    "            print(currentPlayer + ' has won the game!')\n",
    "            break\n",
    "        elif gameBoard.isBoardFull():  # Next check for a tie.\n",
    "            print(gameBoard.getBoardStr())\n",
    "            print('The game is a tie!')\n",
    "            break\n",
    "        currentPlayer, nextPlayer = nextPlayer, currentPlayer  # Swap turns \n",
    "    print('Thanks for playing!')\n",
    "\n",
    "class TTTBoard:\n",
    "    def __init__(self, usePrettyBoard = False, useLogging = False):\n",
    "        \"\"\"Create a new, blank tic tac toe board.\"\"\"\n",
    "        self._spaces = {}  # The board is represented as a Python dictionary.\n",
    "        for space in ALL_SPACES:\n",
    "            self._spaces[space] = BLANK  # All spaces start as blank.\n",
    "        \n",
    "    def getBoardStr(self):\n",
    "        \"\"\"Return a text-representation of the board.\"\"\"\n",
    "        return f'''\n",
    "      {self._spaces['1']}|{self._spaces['2']}|{self._spaces['3']}  1 2 3\n",
    "      -+-+-\n",
    "      {self._spaces['4']}|{self._spaces['5']}|{self._spaces['6']}  4 5 6\n",
    "      -+-+-\n",
    "      {self._spaces['7']}|{self._spaces['8']}|{self._spaces['9']}  7 8 9'''\n",
    "    \n",
    "    def isValidSpace(self, space):\n",
    "        \"\"\"Returns True if the space on the board is a valid space number\n",
    "        and the space is blank.\"\"\"\n",
    "        return space in ALL_SPACES and self._spaces[space] == BLANK\n",
    "    \n",
    "    def isWinner(self, player):\n",
    "        \"\"\"Return True if player is a winner on this TTTBoard.\"\"\"\n",
    "        s, p = self._spaces, player  # Shorter names as \"syntactic sugar\"\n",
    "        # Check for 3 marks across the 3 rows, 3 columns, and 2 diagonals.\n",
    "        return ((s['1'] == s['2'] == s['3'] == p) or  # Across the top\n",
    "                (s['4'] == s['5'] == s['6'] == p) or  # Across the middle\n",
    "                (s['7'] == s['8'] == s['9'] == p) or  # Across the bottom\n",
    "                (s['1'] == s['4'] == s['7'] == p) or  # Down the left\n",
    "                (s['2'] == s['5'] == s['8'] == p) or  # Down the middle\n",
    "                (s['3'] == s['6'] == s['9'] == p) or  # Down the right\n",
    "                (s['3'] == s['5'] == s['7'] == p) or  # Diagonal \n",
    "                (s['1'] == s['5'] == s['9'] == p))    # Diagonal\n",
    "    \n",
    "    def isBoardFull(self):\n",
    "        \"\"\"Return True if every space on the board has been taken.\"\"\"\n",
    "        for space in ALL_SPACES:\n",
    "            if self._spaces[space] == BLANK:\n",
    "                return False  # If a single space is blank, return False.\n",
    "        return True  # No spaces are blank, so return True.\n",
    "    \n",
    "    def updateBoard(self, space, player):\n",
    "        \"\"\"Sets the space on the board to player.\"\"\"\n",
    "        self._spaces[space] = player\n",
    "\n",
    "if __name__ == '__main__':\n",
    "    main()  # Call main() if this module is run, but not when imported."
   ]
  },
  {
   "cell_type": "markdown",
   "metadata": {},
   "source": [
    "[Back to Top](#chapter_16_title)<br>"
   ]
  },
  {
   "cell_type": "markdown",
   "metadata": {},
   "source": [
    "### Inheritance Example\n",
    "<a id = 'inheritance_example'></a>"
   ]
  },
  {
   "cell_type": "code",
   "execution_count": 1,
   "metadata": {},
   "outputs": [],
   "source": [
    "class ParentClass:\n",
    "    def printHello(self):\n",
    "        print('Hello, world!')\n",
    "\n",
    "class ChildClass(ParentClass):\n",
    "    def someNewMethod(self):\n",
    "        print(\"ParentClass objects don't have this method.\")\n",
    "\n",
    "class GrandchildClass(ChildClass):\n",
    "    def anotherNewMethod(self):\n",
    "        print('Only GrandchildClass objects have this method.')"
   ]
  },
  {
   "cell_type": "code",
   "execution_count": 3,
   "metadata": {
    "scrolled": true
   },
   "outputs": [
    {
     "name": "stdout",
     "output_type": "stream",
     "text": [
      "Create a ParentClass object and call its methods:\n",
      "Hello, world!\n",
      "\n",
      "Create a ChildClass object and call its methods:\n",
      "Hello, world!\n",
      "ParentClass objects don't have this method.\n",
      "\n",
      "Create a GrandchildClass object and call its methods:\n",
      "Hello, world!\n",
      "ParentClass objects don't have this method.\n",
      "Only GrandchildClass objects have this method.\n",
      "\n",
      "An error:\n"
     ]
    },
    {
     "ename": "AttributeError",
     "evalue": "'ParentClass' object has no attribute 'someNewMethod'",
     "output_type": "error",
     "traceback": [
      "\u001b[1;31m---------------------------------------------------------------------------\u001b[0m",
      "\u001b[1;31mAttributeError\u001b[0m                            Traceback (most recent call last)",
      "\u001b[1;32m<ipython-input-3-66eb12c17930>\u001b[0m in \u001b[0;36m<module>\u001b[1;34m\u001b[0m\n\u001b[0;32m     21\u001b[0m \u001b[0mprint\u001b[0m\u001b[1;33m(\u001b[0m\u001b[1;33m)\u001b[0m\u001b[1;33m\u001b[0m\u001b[1;33m\u001b[0m\u001b[0m\n\u001b[0;32m     22\u001b[0m \u001b[0mprint\u001b[0m\u001b[1;33m(\u001b[0m\u001b[1;34m'An error:'\u001b[0m\u001b[1;33m)\u001b[0m\u001b[1;33m\u001b[0m\u001b[1;33m\u001b[0m\u001b[0m\n\u001b[1;32m---> 23\u001b[1;33m \u001b[0mparent\u001b[0m\u001b[1;33m.\u001b[0m\u001b[0msomeNewMethod\u001b[0m\u001b[1;33m(\u001b[0m\u001b[1;33m)\u001b[0m\u001b[1;33m\u001b[0m\u001b[1;33m\u001b[0m\u001b[0m\n\u001b[0m",
      "\u001b[1;31mAttributeError\u001b[0m: 'ParentClass' object has no attribute 'someNewMethod'"
     ]
    }
   ],
   "source": [
    "print('Create a ParentClass object and call its methods:')\n",
    "\n",
    "parent = ParentClass()\n",
    "parent.printHello()\n",
    "\n",
    "print()\n",
    "print('Create a ChildClass object and call its methods:')\n",
    "\n",
    "child = ChildClass()\n",
    "child.printHello()\n",
    "child.someNewMethod()\n",
    "\n",
    "print()\n",
    "print('Create a GrandchildClass object and call its methods:')\n",
    "\n",
    "grandchild = GrandchildClass()\n",
    "grandchild.printHello()\n",
    "grandchild.someNewMethod()\n",
    "grandchild.anotherNewMethod()\n",
    "\n",
    "print()\n",
    "print('An error:')\n",
    "parent.someNewMethod()"
   ]
  },
  {
   "cell_type": "markdown",
   "metadata": {},
   "source": [
    "[Back to Top](#chapter_16_title)<br>"
   ]
  },
  {
   "cell_type": "markdown",
   "metadata": {},
   "source": [
    "### Overriding Methods\n",
    "<a id = 'overriding_methods'></a>"
   ]
  },
  {
   "cell_type": "code",
   "execution_count": 10,
   "metadata": {
    "scrolled": true
   },
   "outputs": [
    {
     "name": "stdout",
     "output_type": "stream",
     "text": [
      "Welcome to tic-tac-toe!\n",
      "Use mini board? Y/N: y\n",
      "\n",
      "           ... 123\n",
      "           ... 456\n",
      "           ... 789\n",
      "What is X's move? (1-9)\n",
      "1\n",
      "\n",
      "           X.. 123\n",
      "           ... 456\n",
      "           ... 789\n",
      "What is O's move? (1-9)\n",
      "3\n",
      "\n",
      "           X.O 123\n",
      "           ... 456\n",
      "           ... 789\n",
      "What is X's move? (1-9)\n",
      "2\n",
      "\n",
      "           XXO 123\n",
      "           ... 456\n",
      "           ... 789\n",
      "What is O's move? (1-9)\n",
      "4\n",
      "\n",
      "           XXO 123\n",
      "           O.. 456\n",
      "           ... 789\n",
      "What is X's move? (1-9)\n",
      "6\n",
      "\n",
      "           XXO 123\n",
      "           O.X 456\n",
      "           ... 789\n",
      "What is O's move? (1-9)\n",
      "5\n",
      "\n",
      "           XXO 123\n",
      "           OOX 456\n",
      "           ... 789\n",
      "What is X's move? (1-9)\n",
      "7\n",
      "\n",
      "           XXO 123\n",
      "           OOX 456\n",
      "           X.. 789\n",
      "What is O's move? (1-9)\n",
      "8\n",
      "\n",
      "           XXO 123\n",
      "           OOX 456\n",
      "           XO. 789\n",
      "What is X's move? (1-9)\n",
      "9\n",
      "\n",
      "           XXO 123\n",
      "           OOX 456\n",
      "           XOX 789\n",
      "The game is a tie!\n",
      "Thanks for playing!\n"
     ]
    }
   ],
   "source": [
    "# tictactoe_oop.py, an object-oriented tic-tac-toe game.\n",
    "\n",
    "ALL_SPACES = list('123456789')  # The keys for a TTT board.\n",
    "X, O, BLANK = 'X', 'O', ' '  # Constants for string values.\n",
    "\n",
    "def main():\n",
    "    \"\"\"Runs a game of tic-tac-toe.\"\"\"\n",
    "    print('Welcome to tic-tac-toe!')\n",
    "    \n",
    "    if input('Use mini board? Y/N: ').lower().startswith('y'):\n",
    "        gameBoard = MiniBoard()  # Create a MiniBoard object.  \n",
    "    else: \n",
    "        gameBoard = TTTBoard()  # Create a TTT board object.\n",
    "    \n",
    "    currentPlayer, nextPlayer = X, O  # X goes first, O goes next.\n",
    "    \n",
    "    while True:\n",
    "        print(gameBoard.getBoardStr())  # Display the board on the screen.\n",
    "        \n",
    "        # Keep asking the player until they enter a number 1-9:\n",
    "        move = None\n",
    "        while not gameBoard.isValidSpace(move):\n",
    "            print(f'What is {currentPlayer}\\'s move? (1-9)')\n",
    "            move = input()\n",
    "        gameBoard.updateBoard(move, currentPlayer)  # Make the move.\n",
    "        \n",
    "        # Check if the game is over:\n",
    "        if gameBoard.isWinner(currentPlayer):  # First check for victory.\n",
    "            print(gameBoard.getBoardStr())\n",
    "            print(currentPlayer + ' has won the game!')\n",
    "            break\n",
    "        elif gameBoard.isBoardFull():  # Next check for a tie.\n",
    "            print(gameBoard.getBoardStr())\n",
    "            print('The game is a tie!')\n",
    "            break\n",
    "        currentPlayer, nextPlayer = nextPlayer, currentPlayer  # Swap turns \n",
    "    print('Thanks for playing!')\n",
    "\n",
    "class TTTBoard:\n",
    "    def __init__(self, usePrettyBoard = False, useLogging = False):\n",
    "        \"\"\"Create a new, blank tic tac toe board.\"\"\"\n",
    "        self._spaces = {}  # The board is represented as a Python dictionary.\n",
    "        for space in ALL_SPACES:\n",
    "            self._spaces[space] = BLANK  # All spaces start as blank.\n",
    "        \n",
    "    def getBoardStr(self):\n",
    "        \"\"\"Return a text-representation of the board.\"\"\"\n",
    "        return f'''\n",
    "      {self._spaces['1']}|{self._spaces['2']}|{self._spaces['3']}  1 2 3\n",
    "      -+-+-\n",
    "      {self._spaces['4']}|{self._spaces['5']}|{self._spaces['6']}  4 5 6\n",
    "      -+-+-\n",
    "      {self._spaces['7']}|{self._spaces['8']}|{self._spaces['9']}  7 8 9'''\n",
    "    \n",
    "    def isValidSpace(self, space):\n",
    "        \"\"\"Returns True if the space on the board is a valid space number\n",
    "        and the space is blank.\"\"\"\n",
    "        return space in ALL_SPACES and self._spaces[space] == BLANK\n",
    "    \n",
    "    def isWinner(self, player):\n",
    "        \"\"\"Return True if player is a winner on this TTTBoard.\"\"\"\n",
    "        s, p = self._spaces, player  # Shorter names as \"syntactic sugar\"\n",
    "        # Check for 3 marks across the 3 rows, 3 columns, and 2 diagonals.\n",
    "        return ((s['1'] == s['2'] == s['3'] == p) or  # Across the top\n",
    "                (s['4'] == s['5'] == s['6'] == p) or  # Across the middle\n",
    "                (s['7'] == s['8'] == s['9'] == p) or  # Across the bottom\n",
    "                (s['1'] == s['4'] == s['7'] == p) or  # Down the left\n",
    "                (s['2'] == s['5'] == s['8'] == p) or  # Down the middle\n",
    "                (s['3'] == s['6'] == s['9'] == p) or  # Down the right\n",
    "                (s['3'] == s['5'] == s['7'] == p) or  # Diagonal \n",
    "                (s['1'] == s['5'] == s['9'] == p))    # Diagonal\n",
    "    \n",
    "    def isBoardFull(self):\n",
    "        \"\"\"Return True if every space on the board has been taken.\"\"\"\n",
    "        for space in ALL_SPACES:\n",
    "            if self._spaces[space] == BLANK:\n",
    "                return False  # If a single space is blank, return False.\n",
    "        return True  # No spaces are blank, so return True.\n",
    "    \n",
    "    def updateBoard(self, space, player):\n",
    "        \"\"\"Sets the space on the board to player.\"\"\"\n",
    "        self._spaces[space] = player\n",
    "\n",
    "# This class inherits and overrides TTTBoard methods        \n",
    "class MiniBoard(TTTBoard):\n",
    "    def getBoardStr(self):\n",
    "        \"\"\"Return a tiny text-representation of the board.\"\"\"\n",
    "        # Change blank spaces to a '.'\n",
    "        for space in ALL_SPACES:\n",
    "            if self._spaces[space] == BLANK:\n",
    "                self._spaces[space] = '.'\n",
    "        \n",
    "        boardStr = f'''\n",
    "           {self._spaces['1']}{self._spaces['2']}{self._spaces['3']} 123\n",
    "           {self._spaces['4']}{self._spaces['5']}{self._spaces['6']} 456\n",
    "           {self._spaces['7']}{self._spaces['8']}{self._spaces['9']} 789'''\n",
    "        \n",
    "        # Change '.' back to blank spaces.\n",
    "        for space in ALL_SPACES:\n",
    "            if self._spaces[space] == '.':\n",
    "                self._spaces[space] = BLANK\n",
    "        return boardStr\n",
    "        \n",
    "if __name__ == '__main__':\n",
    "    main()  # Call main() if this module is run, but not when imported."
   ]
  },
  {
   "cell_type": "markdown",
   "metadata": {},
   "source": [
    "[Back to Top](#chapter_16_title)<br>"
   ]
  },
  {
   "cell_type": "markdown",
   "metadata": {},
   "source": [
    "### The super() Function\n",
    "<a id = 'the_super_function'></a>"
   ]
  },
  {
   "cell_type": "code",
   "execution_count": 11,
   "metadata": {
    "scrolled": false
   },
   "outputs": [
    {
     "name": "stdout",
     "output_type": "stream",
     "text": [
      "Welcome to tic-tac-toe!\n",
      "Use hint board? Y/N: y\n",
      "\n",
      "       | |   1 2 3\n",
      "      -+-+-\n",
      "       | |   4 5 6\n",
      "      -+-+-\n",
      "       | |   7 8 9\n",
      "What is X's move? (1-9)\n",
      "1\n",
      "\n",
      "      X| |   1 2 3\n",
      "      -+-+-\n",
      "       | |   4 5 6\n",
      "      -+-+-\n",
      "       | |   7 8 9\n",
      "What is O's move? (1-9)\n",
      "2\n",
      "\n",
      "      X|O|   1 2 3\n",
      "      -+-+-\n",
      "       | |   4 5 6\n",
      "      -+-+-\n",
      "       | |   7 8 9\n",
      "What is X's move? (1-9)\n",
      "3\n",
      "\n",
      "      X|O|X  1 2 3\n",
      "      -+-+-\n",
      "       | |   4 5 6\n",
      "      -+-+-\n",
      "       | |   7 8 9\n",
      "What is O's move? (1-9)\n",
      "5\n",
      "\n",
      "      X|O|X  1 2 3\n",
      "      -+-+-\n",
      "       |O|   4 5 6\n",
      "      -+-+-\n",
      "       | |   7 8 9\n",
      "O can win in one more move.\n",
      "What is X's move? (1-9)\n",
      "8\n",
      "\n",
      "      X|O|X  1 2 3\n",
      "      -+-+-\n",
      "       |O|   4 5 6\n",
      "      -+-+-\n",
      "       |X|   7 8 9\n",
      "What is O's move? (1-9)\n",
      "6\n",
      "\n",
      "      X|O|X  1 2 3\n",
      "      -+-+-\n",
      "       |O|O  4 5 6\n",
      "      -+-+-\n",
      "       |X|   7 8 9\n",
      "O can win in one more move.\n",
      "What is X's move? (1-9)\n",
      "3\n",
      "What is X's move? (1-9)\n",
      "3\n",
      "What is X's move? (1-9)\n",
      "4\n",
      "\n",
      "      X|O|X  1 2 3\n",
      "      -+-+-\n",
      "      X|O|O  4 5 6\n",
      "      -+-+-\n",
      "       |X|   7 8 9\n",
      "X can win in one more move.\n",
      "What is O's move? (1-9)\n",
      "9\n",
      "\n",
      "      X|O|X  1 2 3\n",
      "      -+-+-\n",
      "      X|O|O  4 5 6\n",
      "      -+-+-\n",
      "       |X|O  7 8 9\n",
      "X can win in one more move.\n",
      "What is X's move? (1-9)\n",
      "7\n",
      "\n",
      "      X|O|X  1 2 3\n",
      "      -+-+-\n",
      "      X|O|O  4 5 6\n",
      "      -+-+-\n",
      "      X|X|O  7 8 9\n",
      "X can win in one more move.\n",
      "X has won the game!\n",
      "Thanks for playing!\n"
     ]
    }
   ],
   "source": [
    "# tictactoe_oop.py, an object-oriented tic-tac-toe game.\n",
    "\n",
    "import copy\n",
    "\n",
    "ALL_SPACES = list('123456789')  # The keys for a TTT board.\n",
    "X, O, BLANK = 'X', 'O', ' '  # Constants for string values.\n",
    "\n",
    "def main():\n",
    "    \"\"\"Runs a game of tic-tac-toe.\"\"\"\n",
    "    print('Welcome to tic-tac-toe!')\n",
    "    \n",
    "    if input('Use hint board? Y/N: ').lower().startswith('y'):\n",
    "        gameBoard = HintBoard()  # Create a Hint Board object.  \n",
    "    else: \n",
    "        gameBoard = TTTBoard()  # Create a TTT board object.\n",
    "    \n",
    "    currentPlayer, nextPlayer = X, O  # X goes first, O goes next.\n",
    "    \n",
    "    while True:\n",
    "        print(gameBoard.getBoardStr())  # Display the board on the screen.\n",
    "        \n",
    "        # Keep asking the player until they enter a number 1-9:\n",
    "        move = None\n",
    "        while not gameBoard.isValidSpace(move):\n",
    "            print(f'What is {currentPlayer}\\'s move? (1-9)')\n",
    "            move = input()\n",
    "        gameBoard.updateBoard(move, currentPlayer)  # Make the move.\n",
    "        \n",
    "        # Check if the game is over:\n",
    "        if gameBoard.isWinner(currentPlayer):  # First check for victory.\n",
    "            print(gameBoard.getBoardStr())\n",
    "            print(currentPlayer + ' has won the game!')\n",
    "            break\n",
    "        elif gameBoard.isBoardFull():  # Next check for a tie.\n",
    "            print(gameBoard.getBoardStr())\n",
    "            print('The game is a tie!')\n",
    "            break\n",
    "        currentPlayer, nextPlayer = nextPlayer, currentPlayer  # Swap turns \n",
    "    print('Thanks for playing!')\n",
    "\n",
    "class TTTBoard:\n",
    "    def __init__(self, usePrettyBoard = False, useLogging = False):\n",
    "        \"\"\"Create a new, blank tic tac toe board.\"\"\"\n",
    "        self._spaces = {}  # The board is represented as a Python dictionary.\n",
    "        for space in ALL_SPACES:\n",
    "            self._spaces[space] = BLANK  # All spaces start as blank.\n",
    "        \n",
    "    def getBoardStr(self):\n",
    "        \"\"\"Return a text-representation of the board.\"\"\"\n",
    "        return f'''\n",
    "      {self._spaces['1']}|{self._spaces['2']}|{self._spaces['3']}  1 2 3\n",
    "      -+-+-\n",
    "      {self._spaces['4']}|{self._spaces['5']}|{self._spaces['6']}  4 5 6\n",
    "      -+-+-\n",
    "      {self._spaces['7']}|{self._spaces['8']}|{self._spaces['9']}  7 8 9'''\n",
    "    \n",
    "    def isValidSpace(self, space):\n",
    "        \"\"\"Returns True if the space on the board is a valid space number\n",
    "        and the space is blank.\"\"\"\n",
    "        return space in ALL_SPACES and self._spaces[space] == BLANK\n",
    "    \n",
    "    def isWinner(self, player):\n",
    "        \"\"\"Return True if player is a winner on this TTTBoard.\"\"\"\n",
    "        s, p = self._spaces, player  # Shorter names as \"syntactic sugar\"\n",
    "        # Check for 3 marks across the 3 rows, 3 columns, and 2 diagonals.\n",
    "        return ((s['1'] == s['2'] == s['3'] == p) or  # Across the top\n",
    "                (s['4'] == s['5'] == s['6'] == p) or  # Across the middle\n",
    "                (s['7'] == s['8'] == s['9'] == p) or  # Across the bottom\n",
    "                (s['1'] == s['4'] == s['7'] == p) or  # Down the left\n",
    "                (s['2'] == s['5'] == s['8'] == p) or  # Down the middle\n",
    "                (s['3'] == s['6'] == s['9'] == p) or  # Down the right\n",
    "                (s['3'] == s['5'] == s['7'] == p) or  # Diagonal \n",
    "                (s['1'] == s['5'] == s['9'] == p))    # Diagonal\n",
    "    \n",
    "    def isBoardFull(self):\n",
    "        \"\"\"Return True if every space on the board has been taken.\"\"\"\n",
    "        for space in ALL_SPACES:\n",
    "            if self._spaces[space] == BLANK:\n",
    "                return False  # If a single space is blank, return False.\n",
    "        return True  # No spaces are blank, so return True.\n",
    "    \n",
    "    def updateBoard(self, space, player):\n",
    "        \"\"\"Sets the space on the board to player.\"\"\"\n",
    "        self._spaces[space] = player\n",
    "\n",
    "# This class inherits and overrides TTTBoard methods        \n",
    "class MiniBoard(TTTBoard):\n",
    "    def getBoardStr(self):\n",
    "        \"\"\"Return a tiny text-representation of the board.\"\"\"\n",
    "        # Change blank spaces to a '.'\n",
    "        for space in ALL_SPACES:\n",
    "            if self._spaces[space] == BLANK:\n",
    "                self._spaces[space] = '.'\n",
    "        \n",
    "        boardStr = f'''\n",
    "           {self._spaces['1']}{self._spaces['2']}{self._spaces['3']} 123\n",
    "           {self._spaces['4']}{self._spaces['5']}{self._spaces['6']} 456\n",
    "           {self._spaces['7']}{self._spaces['8']}{self._spaces['9']} 789'''\n",
    "        \n",
    "        # Change '.' back to blank spaces.\n",
    "        for space in ALL_SPACES:\n",
    "            if self._spaces[space] == '.':\n",
    "                self._spaces[space] = BLANK\n",
    "        return boardStr\n",
    "    \n",
    "# This child class uses super() function to call its parent class' \n",
    "# original method in the child class' overriding method\n",
    "class HintBoard(TTTBoard):\n",
    "    def getBoardStr(self):\n",
    "        \"\"\"Return a text-representation of the board with hints.\"\"\"\n",
    "        boardStr = super().getBoardStr()  # Call the getBoardStr() in TTTBoard.\n",
    "        \n",
    "        xCanWin = False\n",
    "        oCanWin = False\n",
    "        \n",
    "        originalSpaces = self._spaces  # Backup _spaces.\n",
    "        \n",
    "        for space in ALL_SPACES:  # Check each space:\n",
    "            \n",
    "            # Simulate X moving on this space:\n",
    "            self._spaces = copy.copy(originalSpaces)\n",
    "            if self._spaces[space] == BLANK:\n",
    "                self._spaces[space] = X\n",
    "            if self.isWinner(X):\n",
    "                xCanWin = True\n",
    "            \n",
    "            # Simulate O moving on this space:\n",
    "            self._spaces = copy.copy(originalSpaces)\n",
    "            if self._spaces[space] == BLANK:\n",
    "                self._spaces[space] = O\n",
    "            if self.isWinner(O):\n",
    "                oCanWin = True\n",
    "            \n",
    "        if xCanWin:\n",
    "            boardStr += '\\nX can win in one more move.'\n",
    "        if oCanWin:\n",
    "            boardStr += '\\nO can win in one more move.' \n",
    "        \n",
    "        self._spaces = originalSpaces\n",
    "        return boardStr\n",
    "        \n",
    "if __name__ == '__main__':\n",
    "    main()  # Call main() if this module is run, but not when imported."
   ]
  },
  {
   "cell_type": "markdown",
   "metadata": {},
   "source": [
    "[Back to Top](#chapter_16_title)<br>"
   ]
  },
  {
   "cell_type": "markdown",
   "metadata": {},
   "source": [
    "### Favor Composition Over Inheritance\n",
    "<a id = 'favor_composition_over_inheritance'></a>"
   ]
  },
  {
   "cell_type": "markdown",
   "metadata": {},
   "source": [
    "Inheritance is a great technique for code reuse, and you might want to start using it immediately in all your classes. \n",
    "\n",
    "But you might not always want the base and subclasses to be so tightly coupled. Creating multiple levels of inheritance doesn’t add organization so much as bureaucracy to your code.\n",
    "\n",
    "Although you can use inheritance for classes with “is a” relationships (in other words, when the child class is a kind of the parent class), it’s often favorable to use a technique called composition for classes with “has a” relationships. \n",
    "\n",
    "Composition is the class design technique of including objects in your class rather than inheriting those objects’ class. \n",
    "\n",
    "This is what we do when we add attributes to our classes. When designing your classes using inheritance, favor composition instead of inheritance. \n",
    "\n",
    "This is what we’ve been doing with all the examples in this and the previous chapter, as described in the following list:\n",
    "\n",
    "- A WizCoin object “has an” amount of galleon, sickle, and knut coins.\n",
    "- A TTTBoard object “has a” set of nine spaces.\n",
    "- A MiniBoard object “is a” TTTBoard object, so it also “has a” set of nine spaces.\n",
    "- A HintBoard object “is a” TTTBoard object, so it also “has - a” set of nine spaces."
   ]
  },
  {
   "cell_type": "code",
   "execution_count": 1,
   "metadata": {},
   "outputs": [],
   "source": [
    "import wizcoin"
   ]
  },
  {
   "cell_type": "code",
   "execution_count": 2,
   "metadata": {},
   "outputs": [],
   "source": [
    "class WizardCustomer:\n",
    "    def __init__(self, name):\n",
    "        self.name = name\n",
    "        self.purse = wizcoin.WizCoin(0, 0, 0)"
   ]
  },
  {
   "cell_type": "code",
   "execution_count": 3,
   "metadata": {
    "scrolled": true
   },
   "outputs": [
    {
     "name": "stdout",
     "output_type": "stream",
     "text": [
      "Alice has 0 knuts worth of money.\n",
      "Alice's coins weigh 0.0 grams.\n"
     ]
    }
   ],
   "source": [
    "wizard = WizardCustomer('Alice')\n",
    "print(f'{wizard.name} has {wizard.purse.value()} knuts worth of money.')\n",
    "print(f'{wizard.name}\\'s coins weigh {wizard.purse.weightInGrams()} grams.')"
   ]
  },
  {
   "cell_type": "markdown",
   "metadata": {},
   "source": [
    "### The isinstance() and issubclass() Functions\n",
    "<a id = 'the_isinstance_and_issubclass_functions'></a>"
   ]
  },
  {
   "cell_type": "code",
   "execution_count": 5,
   "metadata": {},
   "outputs": [],
   "source": [
    "class ParentClass:\n",
    "    pass\n",
    "\n",
    "class ChildClass(ParentClass):\n",
    "    pass"
   ]
  },
  {
   "cell_type": "code",
   "execution_count": 6,
   "metadata": {},
   "outputs": [],
   "source": [
    "parent = ParentClass()  # Create a ParentClass object.\n",
    "child = ChildClass()  # Create a ChildClass object."
   ]
  },
  {
   "cell_type": "code",
   "execution_count": 7,
   "metadata": {},
   "outputs": [
    {
     "data": {
      "text/plain": [
       "True"
      ]
     },
     "execution_count": 7,
     "metadata": {},
     "output_type": "execute_result"
    }
   ],
   "source": [
    "isinstance(parent, ParentClass)"
   ]
  },
  {
   "cell_type": "code",
   "execution_count": 8,
   "metadata": {},
   "outputs": [
    {
     "data": {
      "text/plain": [
       "False"
      ]
     },
     "execution_count": 8,
     "metadata": {},
     "output_type": "execute_result"
    }
   ],
   "source": [
    "isinstance(parent, ChildClass)"
   ]
  },
  {
   "cell_type": "code",
   "execution_count": 9,
   "metadata": {},
   "outputs": [
    {
     "data": {
      "text/plain": [
       "True"
      ]
     },
     "execution_count": 9,
     "metadata": {},
     "output_type": "execute_result"
    }
   ],
   "source": [
    "isinstance(child, ChildClass)"
   ]
  },
  {
   "cell_type": "code",
   "execution_count": 10,
   "metadata": {},
   "outputs": [
    {
     "data": {
      "text/plain": [
       "True"
      ]
     },
     "execution_count": 10,
     "metadata": {},
     "output_type": "execute_result"
    }
   ],
   "source": [
    "isinstance(child, ParentClass)"
   ]
  },
  {
   "cell_type": "markdown",
   "metadata": {},
   "source": [
    "You can also pass a tuple of class objects as the second argument to see whether the first argument is one of any of the classes in the tuple:"
   ]
  },
  {
   "cell_type": "code",
   "execution_count": 11,
   "metadata": {},
   "outputs": [
    {
     "data": {
      "text/plain": [
       "True"
      ]
     },
     "execution_count": 11,
     "metadata": {},
     "output_type": "execute_result"
    }
   ],
   "source": [
    "isinstance(41, (int, str, bool))  # True if 42 is an int, str, or bool."
   ]
  },
  {
   "cell_type": "markdown",
   "metadata": {},
   "source": [
    "The less commonly used issubclass() built-in function can identify whether the class object passed for the first argument is a subclass of (or the same class as) the class object passed for the second argument:"
   ]
  },
  {
   "cell_type": "code",
   "execution_count": 13,
   "metadata": {},
   "outputs": [
    {
     "data": {
      "text/plain": [
       "True"
      ]
     },
     "execution_count": 13,
     "metadata": {},
     "output_type": "execute_result"
    }
   ],
   "source": [
    "issubclass(ChildClass, ParentClass)  # ChildClass subclasses ParentClass."
   ]
  },
  {
   "cell_type": "code",
   "execution_count": 14,
   "metadata": {},
   "outputs": [
    {
     "data": {
      "text/plain": [
       "False"
      ]
     },
     "execution_count": 14,
     "metadata": {},
     "output_type": "execute_result"
    }
   ],
   "source": [
    "issubclass(ChildClass, str)  # ChildClass doesn't subclass str."
   ]
  },
  {
   "cell_type": "code",
   "execution_count": 15,
   "metadata": {
    "scrolled": true
   },
   "outputs": [
    {
     "data": {
      "text/plain": [
       "True"
      ]
     },
     "execution_count": 15,
     "metadata": {},
     "output_type": "execute_result"
    }
   ],
   "source": [
    "issubclass(ChildClass, ChildClass)  # ChildClass is ChildClass"
   ]
  },
  {
   "cell_type": "markdown",
   "metadata": {},
   "source": [
    "[Back to Top](#chapter_16_title)<br>"
   ]
  },
  {
   "cell_type": "markdown",
   "metadata": {},
   "source": [
    "## Class and Static Object-Oriented Features\n",
    "<a id = 'class_and_static_object_oriented_features'></a>"
   ]
  },
  {
   "cell_type": "markdown",
   "metadata": {},
   "source": [
    "### Class Methods\n",
    "<a id = 'class_methods'></a>"
   ]
  },
  {
   "cell_type": "markdown",
   "metadata": {},
   "source": [
    "Class methods are associated with a class rather than with individual objects, like regular methods are. You can recognize a class method in code when you see two markers: the @classmethod decorator before the method’s def statement and the use of cls as the first parameter, as shown in the following example."
   ]
  },
  {
   "cell_type": "code",
   "execution_count": 16,
   "metadata": {},
   "outputs": [],
   "source": [
    "class ExampleClass:\n",
    "    def exampleRegularMethod(self):\n",
    "        print('This is a regular method.')\n",
    "    \n",
    "    @classmethod\n",
    "    def exampleClassMethod(cls):\n",
    "        print('This is a class method.')"
   ]
  },
  {
   "cell_type": "code",
   "execution_count": 17,
   "metadata": {},
   "outputs": [
    {
     "name": "stdout",
     "output_type": "stream",
     "text": [
      "This is a class method.\n"
     ]
    }
   ],
   "source": [
    "# Call the class method without instantiating an object:\n",
    "ExampleClass.exampleClassMethod()"
   ]
  },
  {
   "cell_type": "code",
   "execution_count": 18,
   "metadata": {},
   "outputs": [
    {
     "name": "stdout",
     "output_type": "stream",
     "text": [
      "This is a class method.\n",
      "This is a class method.\n"
     ]
    }
   ],
   "source": [
    "obj = ExampleClass()\n",
    "\n",
    "# Given the above line, these two lines are equivalent:\n",
    "obj.exampleClassMethod()\n",
    "obj.__class__.exampleClassMethod()"
   ]
  },
  {
   "cell_type": "markdown",
   "metadata": {},
   "source": [
    "The cls parameter acts like self except self refers to an object, but the cls parameter refers to an object’s class. \n",
    "\n",
    "This means that the code in a class method cannot access an individual object’s attributes or call an object’s regular methods.\n",
    "\n",
    "Class methods can only call other class methods or access class attributes. \n",
    "\n",
    "We use the name cls because class is a Python keyword, and just like other keywords, such as if, while, or import, we can’t use it for parameter names. \n",
    "\n",
    "We often call class attributes through the class object, as in ExampleClass.exampleClassMethod(). But we can also call them through any object of the class, as in obj.exampleClassMethod().\n",
    "\n",
    "Class methods aren’t commonly used. The most frequent use case is to provide alternative constructor methods besides __init__(). \n",
    "\n",
    "For example, what if a constructor function could accept either a string of data the new object needs or a string of a filename that contains the data the new object needs? We don’t want the list of the __init__() method’s parameters to be lengthy and confusing. \n",
    "\n",
    "Instead let’s use class methods to return a new object.\n",
    "\n",
    "For example, let’s create an AsciiArt class. As you saw in Chapter 14, ASCII art uses text characters to form an image."
   ]
  },
  {
   "cell_type": "code",
   "execution_count": 19,
   "metadata": {},
   "outputs": [],
   "source": [
    "class AsciiArt:\n",
    "    def __init__(self, characters):\n",
    "        self._characters = characters\n",
    "    \n",
    "    @classmethod\n",
    "    def fromFile(cls, filename):\n",
    "        with open(filename) as fileObj:\n",
    "            characters = fileObj.read()\n",
    "            return cls(characters)\n",
    "    \n",
    "    def display(self):\n",
    "        print(self._characters)\n",
    "    \n",
    "    # Other AsciiArt methods would go here..."
   ]
  },
  {
   "cell_type": "code",
   "execution_count": 20,
   "metadata": {},
   "outputs": [],
   "source": [
    "face1 = AsciiArt(' _______\\n' +\n",
    "                 '|  . .  |\\n' +\n",
    "                 '| \\\\___/ |\\n' +\n",
    "                 '|_______|')"
   ]
  },
  {
   "cell_type": "code",
   "execution_count": 21,
   "metadata": {
    "scrolled": true
   },
   "outputs": [
    {
     "name": "stdout",
     "output_type": "stream",
     "text": [
      " _______\n",
      "|  . .  |\n",
      "| \\___/ |\n",
      "|_______|\n"
     ]
    }
   ],
   "source": [
    "face1.display()"
   ]
  },
  {
   "cell_type": "code",
   "execution_count": 26,
   "metadata": {},
   "outputs": [],
   "source": [
    "face2 = AsciiArt.fromFile('face.txt')"
   ]
  },
  {
   "cell_type": "code",
   "execution_count": 27,
   "metadata": {
    "scrolled": true
   },
   "outputs": [
    {
     "name": "stdout",
     "output_type": "stream",
     "text": [
      " _______\n",
      "|  . .  |\n",
      "| \\___/ |\n",
      "|_______|\n"
     ]
    }
   ],
   "source": [
    "face2.display()"
   ]
  },
  {
   "cell_type": "markdown",
   "metadata": {},
   "source": [
    "[Back to Top](#chapter_16_title)<br>"
   ]
  },
  {
   "cell_type": "markdown",
   "metadata": {},
   "source": [
    "The fromFile() class method makes your code a bit easier to read, compared to having __init__() do everything.\n",
    "\n",
    "Another benefit of class methods is that a subclass of AsciiArt can inherit its fromFile() method (and override it if necessary). \n",
    "\n",
    "This is why we call cls(characters) in the AsciiArt class’s fromFile() method instead of AsciiArt(characters). The cls() call will also work in subclasses of AsciiArt without modification because the AsciiArt class isn’t hardcoded into the method. \n",
    "\n",
    "But an AsciiArt() call would always call AsciiArt class’s __init__() instead of the subclass’s __init__(). You can think of cls as meaning “an object representing this class.”\n",
    "\n",
    "Keep in mind that just as regular methods should always use their self parameter somewhere in their code, a class method should always use its cls parameter. If your class method’s code never uses the cls parameter, it’s a sign that your class method should probably just be a function."
   ]
  },
  {
   "cell_type": "markdown",
   "metadata": {},
   "source": [
    "### Class Attributes\n",
    "<a id = 'class_attributes'></a>"
   ]
  },
  {
   "cell_type": "markdown",
   "metadata": {},
   "source": [
    "A class attribute is a variable that belongs to the class rather than to an object. We create class attributes inside the class but outside all methods, just like we create global variables in a .py file but outside all functions. Here’s an example of a class attribute named count, which keeps track of how many CreateCounter objects have been created:"
   ]
  },
  {
   "cell_type": "code",
   "execution_count": 1,
   "metadata": {},
   "outputs": [],
   "source": [
    "class CreateCounter:\n",
    "    count = 0  # This is a class attribute.\n",
    "    \n",
    "    def __init__(self):\n",
    "        CreateCounter.count += 1"
   ]
  },
  {
   "cell_type": "code",
   "execution_count": 2,
   "metadata": {},
   "outputs": [
    {
     "name": "stdout",
     "output_type": "stream",
     "text": [
      "Objects created: 0\n"
     ]
    }
   ],
   "source": [
    "print('Objects created:', CreateCounter.count)  # prints 0"
   ]
  },
  {
   "cell_type": "code",
   "execution_count": 3,
   "metadata": {},
   "outputs": [],
   "source": [
    "a = CreateCounter()\n",
    "b = CreateCounter()\n",
    "c = CreateCounter()"
   ]
  },
  {
   "cell_type": "code",
   "execution_count": 4,
   "metadata": {},
   "outputs": [
    {
     "name": "stdout",
     "output_type": "stream",
     "text": [
      "Objects created: 3\n"
     ]
    }
   ],
   "source": [
    "print('Objects created:', CreateCounter.count)  # prints 3"
   ]
  },
  {
   "cell_type": "markdown",
   "metadata": {},
   "source": [
    "The CreateCounter class has a single class attribute named count. \n",
    "\n",
    "All CreateCounter objects share this attribute rather than having their own separate count attributes. \n",
    "\n",
    "This is why the CreateCounter.count += 1 line in the constructor function can keep count of every CreateCounter object created.\n",
    "\n",
    "We rarely use class attributes. Even this “count how many CreateCounter objects have been created” example can be done more simply by using a global variable instead of a class attribute."
   ]
  },
  {
   "cell_type": "markdown",
   "metadata": {},
   "source": [
    "[Back to Top](#chapter_16_title)<br>"
   ]
  },
  {
   "cell_type": "markdown",
   "metadata": {},
   "source": [
    "### Static Methods\n",
    "<a id = 'static_methods'></a>"
   ]
  },
  {
   "cell_type": "markdown",
   "metadata": {},
   "source": [
    "A static method doesn’t have a self or cls parameter. Static methods are effectively just functions, because they can’t access the attributes or methods of the class or its objects. \n",
    "\n",
    "Rarely, if ever, do you need to use static methods in Python. If you do decide to use one, you should strongly consider just creating a regular function instead.\n",
    "\n",
    "We define static methods by placing the @staticmethod decorator before their def statements. Here is an example of a static method."
   ]
  },
  {
   "cell_type": "code",
   "execution_count": 5,
   "metadata": {},
   "outputs": [],
   "source": [
    "class ExampleClassWithStaticMethod:\n",
    "    @staticmethod\n",
    "    def sayHello():\n",
    "        print('Hello!')"
   ]
  },
  {
   "cell_type": "code",
   "execution_count": 6,
   "metadata": {},
   "outputs": [
    {
     "name": "stdout",
     "output_type": "stream",
     "text": [
      "Hello!\n"
     ]
    }
   ],
   "source": [
    "# Note that no object is created, the class name precedes sayHello():\n",
    "ExampleClassWithStaticMethod.sayHello()"
   ]
  },
  {
   "cell_type": "markdown",
   "metadata": {},
   "source": [
    "There would be almost no difference between the sayHello() static method in the ExampleClassWithStaticMethod class and a sayHello() function. \n",
    "\n",
    "In fact, you might prefer to use a function, because you can call it without having to enter the class name beforehand.\n",
    "\n",
    "Static methods are more common in other languages that don’t have Python’s flexible language features. \n",
    "\n",
    "Python’s inclusion of static methods imitates the features of other languages but doesn’t offer much practical value."
   ]
  },
  {
   "cell_type": "markdown",
   "metadata": {},
   "source": [
    "[Back to Top](#chapter_16_title)<br>"
   ]
  },
  {
   "cell_type": "markdown",
   "metadata": {},
   "source": [
    "### When to Use Class and Static Object-Oriented Features\n",
    "<a id = 'when_to_use_class_and_static_object_oriented_features'></a>"
   ]
  },
  {
   "cell_type": "markdown",
   "metadata": {},
   "source": [
    "You’ll rarely need class methods, class attributes, and static methods. \n",
    "\n",
    "They’re also prone to overuse. If you’re thinking, “Why can’t I just use a function or global variable instead?” this is a hint that you probably don’t need to use a class method, class attribute, or static method. \n",
    "\n",
    "The only reason this intermediate-level book covers them is so you can recognize them when you encounter them in code, but I’m not encouraging you to use them. \n",
    "\n",
    "They can be useful if you’re creating your own framework with an elaborate family of classes that are, in turn, expected to be subclassed by programmers using the framework. But you most likely won’t need them when you’re writing straightforward Python applications.\n",
    "\n",
    "For more discussion on these features and why you do or don’t need them, read Phillip J. Eby’s post [“Python Is Not Java”](https://dirtsimple.org/2004/12/python-is-not-java.html), \n",
    "and Ryan Tomayko’s [“The Static Method Thing”](https://tomayko.com/blog/2004/the-static-method-thing)."
   ]
  },
  {
   "cell_type": "markdown",
   "metadata": {},
   "source": [
    "### Multiple Inheritance\n",
    "<a id = 'multiple_inheritance'></a>"
   ]
  },
  {
   "cell_type": "markdown",
   "metadata": {},
   "source": [
    "Many programming languages limit classes to at most one parent class. Python supports multiple parent classes by offering a feature called multiple inheritance. \n",
    "\n",
    "For example, we can have an Airplane class with a flyInTheAir() method and a Ship class with a floatOnWater() method. \n",
    "\n",
    "We could then create a FlyingBoat class that inherits from both Airplane and Ship by listing both in the class statement, separated by commas."
   ]
  },
  {
   "cell_type": "code",
   "execution_count": 7,
   "metadata": {},
   "outputs": [],
   "source": [
    "class Airplane:\n",
    "    def flyInTheAir(self):\n",
    "        print('Flying...')\n",
    "\n",
    "class Ship:\n",
    "    def floatOnWater(self):\n",
    "        print('Floating...')    \n",
    "\n",
    "class FlyingBoat(Airplane, Ship):\n",
    "    pass"
   ]
  },
  {
   "cell_type": "markdown",
   "metadata": {},
   "source": [
    "The FlyingBoat objects we create will inherit the flyInTheAir() and floatOnWater() methods, as you can see in the interactive shell:"
   ]
  },
  {
   "cell_type": "code",
   "execution_count": 8,
   "metadata": {},
   "outputs": [],
   "source": [
    "seaDuck = FlyingBoat()"
   ]
  },
  {
   "cell_type": "code",
   "execution_count": 10,
   "metadata": {},
   "outputs": [
    {
     "name": "stdout",
     "output_type": "stream",
     "text": [
      "Flying...\n"
     ]
    }
   ],
   "source": [
    "seaDuck.flyInTheAir()"
   ]
  },
  {
   "cell_type": "code",
   "execution_count": 11,
   "metadata": {},
   "outputs": [
    {
     "name": "stdout",
     "output_type": "stream",
     "text": [
      "Floating...\n"
     ]
    }
   ],
   "source": [
    "seaDuck.floatOnWater()"
   ]
  },
  {
   "cell_type": "markdown",
   "metadata": {},
   "source": [
    "[Back to Top](#chapter_16_title)<br>"
   ]
  },
  {
   "cell_type": "markdown",
   "metadata": {},
   "source": [
    "Multiple inheritance is straightforward as long as the parent classes’ method names are distinct and don’t overlap. \n",
    "\n",
    "These sorts of classes are called mixins. (This is just a general term for a kind of class; Python has no mixin keyword.) \n",
    "\n",
    "But what happens when we inherit from multiple complicated classes that do share method names?\n",
    "\n",
    "For example, consider the MiniBoard and HintTTTBoard tic-tac-toe board classes from earlier in this chapter. \n",
    "\n",
    "What if we want a class that displays a miniature tic-tac-toe board and also provides hints? \n",
    "\n",
    "With multiple inheritance, we can reuse these existing classes. Add the following to the end of your tictactoe_oop.py file but before the if statement that calls the main() function:\n",
    "\n",
    "```python\n",
    "\n",
    "class HybridBoard(HintBoard, MiniBoard):\n",
    "    pass\n",
    "\n",
    "```\n",
    "\n",
    "This class has nothing in it. It reuses code by inheriting from HintBoard and MiniBoard. Next, change the code in the main() function so it creates a HybridBoard object:\n",
    "\n",
    "```python\n",
    "\n",
    "gameBoard = HybridBoard() # Create a TTT board object.\n",
    "\n",
    "```\n",
    "\n",
    "Both parent classes, MiniBoard and HintBoard, have a method named getBoardStr(), so which one does HybridBoard inherit? \n",
    "\n",
    "When you run this program, the output displays a miniature tic-tac-toe board but also provides hints:"
   ]
  },
  {
   "cell_type": "code",
   "execution_count": 15,
   "metadata": {
    "scrolled": true
   },
   "outputs": [
    {
     "name": "stdout",
     "output_type": "stream",
     "text": [
      "Welcome to tic-tac-toe!\n",
      "Use Hybrid Board? Y/N: Y\n",
      "\n",
      "           ... 123\n",
      "           ... 456\n",
      "           ... 789\n",
      "What is X's move? (1-9)\n",
      "1\n",
      "\n",
      "           X.. 123\n",
      "           ... 456\n",
      "           ... 789\n",
      "What is O's move? (1-9)\n",
      "2\n",
      "\n",
      "           XO. 123\n",
      "           ... 456\n",
      "           ... 789\n",
      "What is X's move? (1-9)\n",
      "3\n",
      "\n",
      "           XOX 123\n",
      "           ... 456\n",
      "           ... 789\n",
      "What is O's move? (1-9)\n",
      "4\n",
      "\n",
      "           XOX 123\n",
      "           O.. 456\n",
      "           ... 789\n",
      "What is X's move? (1-9)\n",
      "5\n",
      "\n",
      "           XOX 123\n",
      "           OX. 456\n",
      "           ... 789\n",
      "X can win in one more move.\n",
      "What is O's move? (1-9)\n",
      "6\n",
      "\n",
      "           XOX 123\n",
      "           OXO 456\n",
      "           ... 789\n",
      "X can win in one more move.\n",
      "What is X's move? (1-9)\n",
      "7\n",
      "\n",
      "           XOX 123\n",
      "           OXO 456\n",
      "           X.. 789\n",
      "X can win in one more move.\n",
      "X has won the game!\n",
      "Thanks for playing!\n"
     ]
    }
   ],
   "source": [
    "# tictactoe_oop.py, an object-oriented tic-tac-toe game.\n",
    "\n",
    "import copy\n",
    "\n",
    "ALL_SPACES = list('123456789')  # The keys for a TTT board.\n",
    "X, O, BLANK = 'X', 'O', ' '  # Constants for string values.\n",
    "\n",
    "def main():\n",
    "    \"\"\"Runs a game of tic-tac-toe.\"\"\"\n",
    "    print('Welcome to tic-tac-toe!')\n",
    "    \n",
    "    if input('Use Hybrid Board? Y/N: ').lower().startswith('y'):\n",
    "        gameBoard = HybridBoard()  # Create a Hybrid Board object.  \n",
    "    else: \n",
    "        gameBoard = TTTBoard()  # Create a TTT board object.\n",
    "    \n",
    "    currentPlayer, nextPlayer = X, O  # X goes first, O goes next.\n",
    "    \n",
    "    while True:\n",
    "        print(gameBoard.getBoardStr())  # Display the board on the screen.\n",
    "        \n",
    "        # Keep asking the player until they enter a number 1-9:\n",
    "        move = None\n",
    "        while not gameBoard.isValidSpace(move):\n",
    "            print(f'What is {currentPlayer}\\'s move? (1-9)')\n",
    "            move = input()\n",
    "        gameBoard.updateBoard(move, currentPlayer)  # Make the move.\n",
    "        \n",
    "        # Check if the game is over:\n",
    "        if gameBoard.isWinner(currentPlayer):  # First check for victory.\n",
    "            print(gameBoard.getBoardStr())\n",
    "            print(currentPlayer + ' has won the game!')\n",
    "            break\n",
    "        elif gameBoard.isBoardFull():  # Next check for a tie.\n",
    "            print(gameBoard.getBoardStr())\n",
    "            print('The game is a tie!')\n",
    "            break\n",
    "        currentPlayer, nextPlayer = nextPlayer, currentPlayer  # Swap turns \n",
    "    print('Thanks for playing!')\n",
    "\n",
    "class TTTBoard:\n",
    "    def __init__(self, usePrettyBoard = False, useLogging = False):\n",
    "        \"\"\"Create a new, blank tic tac toe board.\"\"\"\n",
    "        self._spaces = {}  # The board is represented as a Python dictionary.\n",
    "        for space in ALL_SPACES:\n",
    "            self._spaces[space] = BLANK  # All spaces start as blank.\n",
    "        \n",
    "    def getBoardStr(self):\n",
    "        \"\"\"Return a text-representation of the board.\"\"\"\n",
    "        return f'''\n",
    "      {self._spaces['1']}|{self._spaces['2']}|{self._spaces['3']}  1 2 3\n",
    "      -+-+-\n",
    "      {self._spaces['4']}|{self._spaces['5']}|{self._spaces['6']}  4 5 6\n",
    "      -+-+-\n",
    "      {self._spaces['7']}|{self._spaces['8']}|{self._spaces['9']}  7 8 9'''\n",
    "    \n",
    "    def isValidSpace(self, space):\n",
    "        \"\"\"Returns True if the space on the board is a valid space number\n",
    "        and the space is blank.\"\"\"\n",
    "        return space in ALL_SPACES and self._spaces[space] == BLANK\n",
    "    \n",
    "    def isWinner(self, player):\n",
    "        \"\"\"Return True if player is a winner on this TTTBoard.\"\"\"\n",
    "        s, p = self._spaces, player  # Shorter names as \"syntactic sugar\"\n",
    "        # Check for 3 marks across the 3 rows, 3 columns, and 2 diagonals.\n",
    "        return ((s['1'] == s['2'] == s['3'] == p) or  # Across the top\n",
    "                (s['4'] == s['5'] == s['6'] == p) or  # Across the middle\n",
    "                (s['7'] == s['8'] == s['9'] == p) or  # Across the bottom\n",
    "                (s['1'] == s['4'] == s['7'] == p) or  # Down the left\n",
    "                (s['2'] == s['5'] == s['8'] == p) or  # Down the middle\n",
    "                (s['3'] == s['6'] == s['9'] == p) or  # Down the right\n",
    "                (s['3'] == s['5'] == s['7'] == p) or  # Diagonal \n",
    "                (s['1'] == s['5'] == s['9'] == p))    # Diagonal\n",
    "    \n",
    "    def isBoardFull(self):\n",
    "        \"\"\"Return True if every space on the board has been taken.\"\"\"\n",
    "        for space in ALL_SPACES:\n",
    "            if self._spaces[space] == BLANK:\n",
    "                return False  # If a single space is blank, return False.\n",
    "        return True  # No spaces are blank, so return True.\n",
    "    \n",
    "    def updateBoard(self, space, player):\n",
    "        \"\"\"Sets the space on the board to player.\"\"\"\n",
    "        self._spaces[space] = player\n",
    "\n",
    "# This class inherits and overrides TTTBoard methods        \n",
    "class MiniBoard(TTTBoard):\n",
    "    def getBoardStr(self):\n",
    "        \"\"\"Return a tiny text-representation of the board.\"\"\"\n",
    "        # Change blank spaces to a '.'\n",
    "        for space in ALL_SPACES:\n",
    "            if self._spaces[space] == BLANK:\n",
    "                self._spaces[space] = '.'\n",
    "        \n",
    "        boardStr = f'''\n",
    "           {self._spaces['1']}{self._spaces['2']}{self._spaces['3']} 123\n",
    "           {self._spaces['4']}{self._spaces['5']}{self._spaces['6']} 456\n",
    "           {self._spaces['7']}{self._spaces['8']}{self._spaces['9']} 789'''\n",
    "        \n",
    "        # Change '.' back to blank spaces.\n",
    "        for space in ALL_SPACES:\n",
    "            if self._spaces[space] == '.':\n",
    "                self._spaces[space] = BLANK\n",
    "        return boardStr\n",
    "    \n",
    "# This child class uses super() function to call its parent class' \n",
    "# original method in the child class' overriding method\n",
    "class HintBoard(TTTBoard):\n",
    "    def getBoardStr(self):\n",
    "        \"\"\"Return a text-representation of the board with hints.\"\"\"\n",
    "        boardStr = super().getBoardStr()  # Call the getBoardStr() in TTTBoard.\n",
    "        \n",
    "        xCanWin = False\n",
    "        oCanWin = False\n",
    "        \n",
    "        originalSpaces = self._spaces  # Backup _spaces.\n",
    "        \n",
    "        for space in ALL_SPACES:  # Check each space:\n",
    "            \n",
    "            # Simulate X moving on this space:\n",
    "            self._spaces = copy.copy(originalSpaces)\n",
    "            if self._spaces[space] == BLANK:\n",
    "                self._spaces[space] = X\n",
    "            if self.isWinner(X):\n",
    "                xCanWin = True\n",
    "            \n",
    "            # Simulate O moving on this space:\n",
    "            self._spaces = copy.copy(originalSpaces)\n",
    "            if self._spaces[space] == BLANK:\n",
    "                self._spaces[space] = O\n",
    "            if self.isWinner(O):\n",
    "                oCanWin = True\n",
    "            \n",
    "        if xCanWin:\n",
    "            boardStr += '\\nX can win in one more move.'\n",
    "        if oCanWin:\n",
    "            boardStr += '\\nO can win in one more move.' \n",
    "        \n",
    "        self._spaces = originalSpaces\n",
    "        return boardStr\n",
    "\n",
    "class HybridBoard(HintBoard, MiniBoard):\n",
    "    pass\n",
    "    \n",
    "if __name__ == '__main__':\n",
    "    main()  # Call main() if this module is run, but not when imported."
   ]
  },
  {
   "cell_type": "markdown",
   "metadata": {},
   "source": [
    "Python seems to have magically merged the MiniBoard class’s getBoardStr() method and the HintBoard class’s getBoardStr() method to do both! \n",
    "\n",
    "But this is because I’ve written them to work with each other. In fact, if you switch the order of the classes in the HybridBoard class’s class statement so it looks like this:"
   ]
  },
  {
   "cell_type": "code",
   "execution_count": 13,
   "metadata": {},
   "outputs": [
    {
     "name": "stdout",
     "output_type": "stream",
     "text": [
      "Welcome to tic-tac-toe!\n",
      "Use Hybrid Board? Y/N: Y\n",
      "\n",
      "           ... 123\n",
      "           ... 456\n",
      "           ... 789\n",
      "What is X's move? (1-9)\n",
      "1\n",
      "\n",
      "           X.. 123\n",
      "           ... 456\n",
      "           ... 789\n",
      "What is O's move? (1-9)\n",
      "2\n",
      "\n",
      "           XO. 123\n",
      "           ... 456\n",
      "           ... 789\n",
      "What is X's move? (1-9)\n",
      "3\n",
      "\n",
      "           XOX 123\n",
      "           ... 456\n",
      "           ... 789\n",
      "What is O's move? (1-9)\n",
      "4\n",
      "\n",
      "           XOX 123\n",
      "           O.. 456\n",
      "           ... 789\n",
      "What is X's move? (1-9)\n",
      "5\n",
      "\n",
      "           XOX 123\n",
      "           OX. 456\n",
      "           ... 789\n",
      "What is O's move? (1-9)\n",
      "6\n",
      "\n",
      "           XOX 123\n",
      "           OXO 456\n",
      "           ... 789\n",
      "What is X's move? (1-9)\n",
      "7\n",
      "\n",
      "           XOX 123\n",
      "           OXO 456\n",
      "           X.. 789\n",
      "X has won the game!\n",
      "Thanks for playing!\n"
     ]
    }
   ],
   "source": [
    "# tictactoe_oop.py, an object-oriented tic-tac-toe game.\n",
    "\n",
    "import copy\n",
    "\n",
    "ALL_SPACES = list('123456789')  # The keys for a TTT board.\n",
    "X, O, BLANK = 'X', 'O', ' '  # Constants for string values.\n",
    "\n",
    "def main():\n",
    "    \"\"\"Runs a game of tic-tac-toe.\"\"\"\n",
    "    print('Welcome to tic-tac-toe!')\n",
    "    \n",
    "    if input('Use Hybrid Board? Y/N: ').lower().startswith('y'):\n",
    "        gameBoard = HybridBoard()  # Create a Hybrid Board object.  \n",
    "    else: \n",
    "        gameBoard = TTTBoard()  # Create a TTT board object.\n",
    "    \n",
    "    currentPlayer, nextPlayer = X, O  # X goes first, O goes next.\n",
    "    \n",
    "    while True:\n",
    "        print(gameBoard.getBoardStr())  # Display the board on the screen.\n",
    "        \n",
    "        # Keep asking the player until they enter a number 1-9:\n",
    "        move = None\n",
    "        while not gameBoard.isValidSpace(move):\n",
    "            print(f'What is {currentPlayer}\\'s move? (1-9)')\n",
    "            move = input()\n",
    "        gameBoard.updateBoard(move, currentPlayer)  # Make the move.\n",
    "        \n",
    "        # Check if the game is over:\n",
    "        if gameBoard.isWinner(currentPlayer):  # First check for victory.\n",
    "            print(gameBoard.getBoardStr())\n",
    "            print(currentPlayer + ' has won the game!')\n",
    "            break\n",
    "        elif gameBoard.isBoardFull():  # Next check for a tie.\n",
    "            print(gameBoard.getBoardStr())\n",
    "            print('The game is a tie!')\n",
    "            break\n",
    "        currentPlayer, nextPlayer = nextPlayer, currentPlayer  # Swap turns \n",
    "    print('Thanks for playing!')\n",
    "\n",
    "class TTTBoard:\n",
    "    def __init__(self, usePrettyBoard = False, useLogging = False):\n",
    "        \"\"\"Create a new, blank tic tac toe board.\"\"\"\n",
    "        self._spaces = {}  # The board is represented as a Python dictionary.\n",
    "        for space in ALL_SPACES:\n",
    "            self._spaces[space] = BLANK  # All spaces start as blank.\n",
    "        \n",
    "    def getBoardStr(self):\n",
    "        \"\"\"Return a text-representation of the board.\"\"\"\n",
    "        return f'''\n",
    "      {self._spaces['1']}|{self._spaces['2']}|{self._spaces['3']}  1 2 3\n",
    "      -+-+-\n",
    "      {self._spaces['4']}|{self._spaces['5']}|{self._spaces['6']}  4 5 6\n",
    "      -+-+-\n",
    "      {self._spaces['7']}|{self._spaces['8']}|{self._spaces['9']}  7 8 9'''\n",
    "    \n",
    "    def isValidSpace(self, space):\n",
    "        \"\"\"Returns True if the space on the board is a valid space number\n",
    "        and the space is blank.\"\"\"\n",
    "        return space in ALL_SPACES and self._spaces[space] == BLANK\n",
    "    \n",
    "    def isWinner(self, player):\n",
    "        \"\"\"Return True if player is a winner on this TTTBoard.\"\"\"\n",
    "        s, p = self._spaces, player  # Shorter names as \"syntactic sugar\"\n",
    "        # Check for 3 marks across the 3 rows, 3 columns, and 2 diagonals.\n",
    "        return ((s['1'] == s['2'] == s['3'] == p) or  # Across the top\n",
    "                (s['4'] == s['5'] == s['6'] == p) or  # Across the middle\n",
    "                (s['7'] == s['8'] == s['9'] == p) or  # Across the bottom\n",
    "                (s['1'] == s['4'] == s['7'] == p) or  # Down the left\n",
    "                (s['2'] == s['5'] == s['8'] == p) or  # Down the middle\n",
    "                (s['3'] == s['6'] == s['9'] == p) or  # Down the right\n",
    "                (s['3'] == s['5'] == s['7'] == p) or  # Diagonal \n",
    "                (s['1'] == s['5'] == s['9'] == p))    # Diagonal\n",
    "    \n",
    "    def isBoardFull(self):\n",
    "        \"\"\"Return True if every space on the board has been taken.\"\"\"\n",
    "        for space in ALL_SPACES:\n",
    "            if self._spaces[space] == BLANK:\n",
    "                return False  # If a single space is blank, return False.\n",
    "        return True  # No spaces are blank, so return True.\n",
    "    \n",
    "    def updateBoard(self, space, player):\n",
    "        \"\"\"Sets the space on the board to player.\"\"\"\n",
    "        self._spaces[space] = player\n",
    "\n",
    "# This class inherits and overrides TTTBoard methods        \n",
    "class MiniBoard(TTTBoard):\n",
    "    def getBoardStr(self):\n",
    "        \"\"\"Return a tiny text-representation of the board.\"\"\"\n",
    "        # Change blank spaces to a '.'\n",
    "        for space in ALL_SPACES:\n",
    "            if self._spaces[space] == BLANK:\n",
    "                self._spaces[space] = '.'\n",
    "        \n",
    "        boardStr = f'''\n",
    "           {self._spaces['1']}{self._spaces['2']}{self._spaces['3']} 123\n",
    "           {self._spaces['4']}{self._spaces['5']}{self._spaces['6']} 456\n",
    "           {self._spaces['7']}{self._spaces['8']}{self._spaces['9']} 789'''\n",
    "        \n",
    "        # Change '.' back to blank spaces.\n",
    "        for space in ALL_SPACES:\n",
    "            if self._spaces[space] == '.':\n",
    "                self._spaces[space] = BLANK\n",
    "        return boardStr\n",
    "    \n",
    "# This child class uses super() function to call its parent class' \n",
    "# original method in the child class' overriding method\n",
    "class HintBoard(TTTBoard):\n",
    "    def getBoardStr(self):\n",
    "        \"\"\"Return a text-representation of the board with hints.\"\"\"\n",
    "        boardStr = super().getBoardStr()  # Call the getBoardStr() in TTTBoard.\n",
    "        \n",
    "        xCanWin = False\n",
    "        oCanWin = False\n",
    "        \n",
    "        originalSpaces = self._spaces  # Backup _spaces.\n",
    "        \n",
    "        for space in ALL_SPACES:  # Check each space:\n",
    "            \n",
    "            # Simulate X moving on this space:\n",
    "            self._spaces = copy.copy(originalSpaces)\n",
    "            if self._spaces[space] == BLANK:\n",
    "                self._spaces[space] = X\n",
    "            if self.isWinner(X):\n",
    "                xCanWin = True\n",
    "            \n",
    "            # Simulate O moving on this space:\n",
    "            self._spaces = copy.copy(originalSpaces)\n",
    "            if self._spaces[space] == BLANK:\n",
    "                self._spaces[space] = O\n",
    "            if self.isWinner(O):\n",
    "                oCanWin = True\n",
    "            \n",
    "        if xCanWin:\n",
    "            boardStr += '\\nX can win in one more move.'\n",
    "        if oCanWin:\n",
    "            boardStr += '\\nO can win in one more move.' \n",
    "        \n",
    "        self._spaces = originalSpaces\n",
    "        return boardStr\n",
    "\n",
    "class HybridBoard(MiniBoard, HintBoard):\n",
    "    pass\n",
    "    \n",
    "if __name__ == '__main__':\n",
    "    main()  # Call main() if this module is run, but not when imported."
   ]
  },
  {
   "cell_type": "markdown",
   "metadata": {},
   "source": [
    "you lose the hints altogether:"
   ]
  },
  {
   "cell_type": "markdown",
   "metadata": {},
   "source": [
    "To understand why this happens, you need to understand Python’s method resolution order (MRO) and how the super() function actually works."
   ]
  },
  {
   "cell_type": "markdown",
   "metadata": {},
   "source": [
    "[Back to Top](#chapter_16_title)<br>"
   ]
  },
  {
   "cell_type": "markdown",
   "metadata": {},
   "source": [
    "### Method Resolution Order\n",
    "<a id = 'method_resolution_order'></a>"
   ]
  },
  {
   "attachments": {
    "image.png": {
     "image/png": "[encoded data removed]"
    }
   },
   "cell_type": "markdown",
   "metadata": {},
   "source": [
    "**You can paste screenshots, right into a Markdown cell**\n",
    "![image.png](attachment:image.png)"
   ]
  },
  {
   "cell_type": "markdown",
   "metadata": {},
   "source": [
    "When we call getBoardStr() on a HybridBoard object, Python knows that the HybridBoard class doesn’t have a method with this name, so it checks its parent class. \n",
    "\n",
    "But the class has two parent classes, both of which have a getBoardStr() method. Which one gets called?\n",
    "\n",
    "You can find out by checking the HybridBoard class’s MRO, which is the ordered list of classes that Python checks when inheriting methods or when a method calls the super() function. \n",
    "\n",
    "You can see the HybridBoard class’s MRO by calling its mro() method in the interactive shell:"
   ]
  },
  {
   "cell_type": "code",
   "execution_count": 16,
   "metadata": {
    "scrolled": true
   },
   "outputs": [
    {
     "data": {
      "text/plain": [
       "[__main__.HybridBoard,\n",
       " __main__.HintBoard,\n",
       " __main__.MiniBoard,\n",
       " __main__.TTTBoard,\n",
       " object]"
      ]
     },
     "execution_count": 16,
     "metadata": {},
     "output_type": "execute_result"
    }
   ],
   "source": [
    "HybridBoard.mro()"
   ]
  },
  {
   "cell_type": "markdown",
   "metadata": {},
   "source": [
    "From this return value, you can see that when a method is called on HybridBoard, Python first checks for it in the HybridBoard class. \n",
    "\n",
    "If it’s not there, Python checks the HintBoard class, then the MiniBoard class, and finally the TTTBoard class. At the end of every MRO list is the built-in object class, which is the parent class of all classes in Python.\n",
    "\n",
    "For single inheritance, determining the MRO is easy: just make a chain of parent classes. For multiple inheritance, it’s trickier. \n",
    "\n",
    "Python’s MRO follows the C3 algorithm, whose details are beyond the scope of this book. But you can determine the MRO by remembering two rules:\n",
    "\n",
    "Python checks child classes before parent classes.\n",
    "Python checks inherited classes listed left to right in the class statement.\n",
    "\n",
    "\n",
    "If we call getBoardStr() on a HybridBoard object, Python checks the HybridBoard class first. Then, because the class’s parents from left to right are HintBoard and MiniBoard, Python checks HintBoard. This parent class has a getBoardStr() method, so HybridBoard inherits and calls it.\n",
    "\n",
    "But it doesn’t end there: next, this method calls super().getBoardStr(). Super is a somewhat misleading name for Python’s super() function, because it doesn’t return the parent class but rather the next class in the MRO. \n",
    "\n",
    "This means that when we call getBoardStr() on a HybridBoard object, the next class in its MRO, after HintBoard, is MiniBoard, not the parent class TTTBoard. So the call to super().getBoardStr() calls the MiniBoard class’s getBoardStr() method, which returns the miniature tic-tac-toe board string. \n",
    "\n",
    "The remaining code in the HintBoard class’s getBoardStr() after this super() call appends the hint text to this string.\n",
    "\n",
    "If we change the HybridBoard class’s class statement so it lists MiniBoard first and HintBoard second, its MRO will put MiniBoard before HintBoard. \n",
    "\n",
    "This means HybridBoard inherits getBoardStr() from MiniBoard, which doesn’t have a call to super(). \n",
    "\n",
    "This ordering is what caused the bug that made the miniature tic-tac-toe board display without hints: without a super() call, the MiniBoard class’s getBoardStr() method never calls the HintBoard class’s getBoardStr() method.\n",
    "\n",
    "Multiple inheritance allows you to create a lot of functionality in a small amount of code but easily leads to overengineered, hard-to-understand code. \n",
    "\n",
    "Favor single inheritance, mixin classes, or no inheritance. These techniques are often more than capable of carrying out your program’s tasks."
   ]
  },
  {
   "cell_type": "markdown",
   "metadata": {},
   "source": [
    "[Back to Top](#chapter_16_title)<br>"
   ]
  }
 ],
 "metadata": {
  "kernelspec": {
   "display_name": "ibm_project",
   "language": "python",
   "name": "ibm_project"
  },
  "language_info": {
   "codemirror_mode": {
    "name": "ipython",
    "version": 3
   },
   "file_extension": ".py",
   "mimetype": "text/x-python",
   "name": "python",
   "nbconvert_exporter": "python",
   "pygments_lexer": "ipython3",
   "version": "3.7.9"
  }
 },
 "nbformat": 4,
 "nbformat_minor": 4
}
